{
  "nbformat": 4,
  "nbformat_minor": 0,
  "metadata": {
    "colab": {
      "name": "Capstone Projects",
      "provenance": []
    },
    "kernelspec": {
      "name": "python3",
      "display_name": "Python 3"
    }
  },
  "cells": [
    {
      "cell_type": "code",
      "metadata": {
        "id": "ykCxBgWpviBg",
        "colab_type": "code",
        "colab": {}
      },
      "source": [
        "#Ceaser Ciphers\n",
        "a=input(\"Enter a string value-\")\n",
        "b=input(\"Enter a shifting value-\")\n",
        "e=ord(b)\n",
        "for c in range(len(a)):\n",
        "  z=a[c]\n",
        "  for d in range(len(a)):\n",
        "    d=ord(z)\n",
        "    for f in range(len(a)):\n",
        "      y=d+e\n",
        "      x=chr(y)\n",
        "      for g in range(len(a)):\n",
        "        g=a.replace(z,x)\n",
        "print(a)"
      ],
      "execution_count": null,
      "outputs": []
    },
    {
      "cell_type": "code",
      "metadata": {
        "id": "rcig2jW5xHNV",
        "colab_type": "code",
        "colab": {}
      },
      "source": [
        "#Unit converter\n",
        "u_f_t=input('Enter a unit of temperature-')\n",
        "temp=int(input('Enter a temperature-'))\n",
        "t=input('Enter a temperature you want to convert to-')\n",
        "u_f_c=input('Enter a unit of currency-')\n",
        "cur=int(input('Enter a currency amount-'))\n",
        "c=input('Enter the currency you want to convert to-')\n",
        "u_f_v=input('Enter a unit of measurment-')\n",
        "vol=input('Enter a volume-')\n",
        "v=input('Enter a metric unit you want to convert to-')\n",
        "class Unit_Converter:\n",
        "  Var='abcd'\n",
        "  def temperature():\n",
        "    if (u_f_t=='celcius') and (t=='farenheit'):\n",
        "      print((9/5*temp)+32)\n",
        "    elif (u_f_t=='celcius') and (t=='kelvin'):\n",
        "      print(temp+273)\n",
        "    elif (u_f_t=='farenheit') and (t=='celcius'):\n",
        "      print(5/9*(temp-32))\n",
        "    elif (u_f_t=='farenheit') and (t=='kelvin'):\n",
        "      print((temp-32)*5/9+273)\n",
        "    elif (u_f_t=='kelvin') and (t=='celcius'):\n",
        "      print(temp-273)\n",
        "    elif (u_f_t=='kelvin') and (t=='farenheit'):\n",
        "      print((temp-273)*9/5+32)\n",
        "  def currency():\n",
        "    if (u_f_c=='dirham') and (c=='rupee'):\n",
        "      print(cur*20)\n",
        "    elif (u_f_c=='dirham') and (c=='dollar'):\n",
        "      print(cur/27)\n",
        "    elif (u_f_c=='rupee') and (c=='dirham'):\n",
        "      print(cur/20)\n",
        "    elif (u_f_c=='rupee') and (c=='dollar'):\n",
        "      print(cur/74)\n",
        "    elif (u_f_c=='dollar') and (c=='dirham'):\n",
        "      print(cur*27)\n",
        "    elif (u_f_c=='dollar') and (c=='rupee'):\n",
        "      print(cur*74)\n",
        "    def volume():\n",
        "      if (u_f_v=='meter') and (v=='kilometer'):\n",
        "        print(vol/1000)\n",
        "      elif (u_f_v=='meter') and (v=='centimeter'):\n",
        "        print(vol*100)\n",
        "      elif (u_f_v=='kilometer') and (v=='meter'):\n",
        "        print(vol*1000)\n",
        "      elif (u_f_v=='kilometer') and (v=='centimeter'):\n",
        "        print(vol*100000)\n",
        "      elif (u_f_v=='centimeter') and (v=='meter'):\n",
        "        print(vol/100)\n",
        "      elif (u_f_v=='centimeter') and (v=='kilometer'):\n",
        "        print(vol/100000)\n",
        "Unit_Converter()"
      ],
      "execution_count": null,
      "outputs": []
    },
    {
      "cell_type": "code",
      "metadata": {
        "id": "U4Fs74p2xT4_",
        "colab_type": "code",
        "colab": {}
      },
      "source": [
        "#To check if a number is a power of 2\n",
        "a=int(input('Enter a number-'))\n",
        "if (a<0):\n",
        "  print('Please enter a positive number...')\n",
        "for x in range(100):\n",
        "  b=2**x\n",
        "  if (b==a):\n",
        "    print(a,'is a power of 2...')\n",
        "    break\n",
        "  else:\n",
        "    print(a,'is not a power of 2...')\n",
        "    break"
      ],
      "execution_count": null,
      "outputs": []
    },
    {
      "cell_type": "code",
      "metadata": {
        "id": "dNgFFpRovS8w",
        "colab_type": "code",
        "colab": {}
      },
      "source": [
        "#Bingo\n",
        "a=[]\n",
        "for x in range(10):\n",
        "  b=int(input('Enter a number between 1 and 99-'))\n",
        "  a.append(b)\n",
        "print('These are your bingo numbers-',a)\n",
        "for y in range(100):\n",
        "  c=int(input('Enter a number-'))\n",
        "  if (c in a):\n",
        "    a.remove(c)\n",
        "    print(a)\n",
        "  else:\n",
        "    print('Sorry you do not have the number... Your numbers are-',a)\n",
        "  if (len(a)==0):\n",
        "    print('BINGO!! You won!!!')\n",
        "    break"
      ],
      "execution_count": null,
      "outputs": []
    }
  ]
}