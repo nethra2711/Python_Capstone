{
  "nbformat": 4,
  "nbformat_minor": 0,
  "metadata": {
    "colab": {
      "name": "Bingo!!-code",
      "provenance": []
    },
    "kernelspec": {
      "name": "python3",
      "display_name": "Python 3"
    }
  },
  "cells": [
    {
      "cell_type": "code",
      "metadata": {
        "id": "YB_wrS1QxpoH",
        "colab_type": "code",
        "colab": {}
      },
      "source": [
        "#Bingo\n",
        "a=[]\n",
        "for x in range(10):\n",
        "  b=int(input('Enter a number between 1 and 99-'))\n",
        "  a.append(b)\n",
        "print('These are your bingo numbers-',a)\n",
        "for y in range(100):\n",
        "  c=int(input('Enter a number-'))\n",
        "  if (c in a):\n",
        "    a.remove(c)\n",
        "    print(a)\n",
        "  else:\n",
        "    print('Sorry you do not have the number... Your numbers are-',a)\n",
        "  if (len(a)==0):\n",
        "    print('BINGO!! You won!!!')\n",
        "    break"
      ],
      "execution_count": null,
      "outputs": []
    }
  ]
}